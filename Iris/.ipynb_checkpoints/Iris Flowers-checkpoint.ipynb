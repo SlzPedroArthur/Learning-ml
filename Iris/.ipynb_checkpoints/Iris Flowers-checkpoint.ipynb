{
 "cells": [
  {
   "cell_type": "code",
   "execution_count": 1,
   "metadata": {},
   "outputs": [],
   "source": [
    "\"\"\"Neste pequeno projeto você irá desenvolver seu primeiro projeto usando Machine Learning em Python\n",
    "\n",
    "Antes de tudo instale as seguintes bibliotecas. Para isso use o 'pip install':\n",
    "\n",
    "1. Scipy\n",
    "2. Numpy\n",
    "3. Matplotlib\n",
    "4. Pandas\n",
    "5. Sklearn\n",
    "\n",
    "Neste exemplo será usado o dataset 'iris flowers'. Este conjunto de dados é famoso por ser a porta de entrada para muitos entuasiastas ao mundo do aprendizado de máquina.\n",
    "\n",
    "Os dados consistem de 150 observações de flores. Existem quatro features (colunas) de medidas das flores em centrimétros. A quinta coluna é o nosso 'target', a espécie que tentaremos prever. Temos três espécies diferentesdatetime A combination of a date and a time. \n",
    "\n",
    "Vamos primeiro importar as bibliotecas e o arquivo CSV.\n",
    "\"\"\"\n",
    "#Carregando bibliotecas\n",
    "from pandas import read_csv\n",
    "from pandas.plotting import scatter_matrix\n",
    "from matplotlib import pyplot\n",
    "from sklearn.model_selection import train_test_split\n",
    "from sklearn.model_selection import cross_val_score\n",
    "from sklearn.model_selection import StratifiedKFold\n",
    "from sklearn.metrics import classification_report\n",
    "from sklearn.metrics import confusion_matrix\n",
    "from sklearn.metrics import accuracy_score\n",
    "from sklearn.linear_model import LogisticRegression\n",
    "from sklearn.tree import DecisionTreeClassifier\n",
    "from sklearn.neighbors import KNeighborsClassifier\n",
    "from sklearn.discriminant_analysis import LinearDiscriminantAnalysis\n",
    "from sklearn.naive_bayes import GaussianNB\n",
    "from sklearn.svm import SVC"
   ]
  },
  {
   "cell_type": "code",
   "execution_count": 3,
   "metadata": {},
   "outputs": [],
   "source": [
    "#Carregando dataset\n",
    "url = \"https://raw.githubusercontent.com/jbrownlee/Datasets/master/iris.csv\"\n",
    "\n",
    "names = ['speal-lenght', 'sepal-width', 'petal-length', 'petal-width', 'class']\n",
    "\n",
    "dataset = read_csv(url, names=names)\n",
    "\n",
    "print(dataset)"
   ]
  },
  {
   "cell_type": "code",
   "execution_count": 6,
   "metadata": {},
   "outputs": [
    {
     "name": "stdout",
     "output_type": "stream",
     "text": [
      "(150, 5)\n"
     ]
    }
   ],
   "source": [
    "print(dataset.shape)"
   ]
  },
  {
   "cell_type": "code",
   "execution_count": null,
   "metadata": {},
   "outputs": [],
   "source": []
  }
 ],
 "metadata": {
  "kernelspec": {
   "display_name": "Python 3",
   "language": "python",
   "name": "python3"
  },
  "language_info": {
   "codemirror_mode": {
    "name": "ipython",
    "version": 3
   },
   "file_extension": ".py",
   "mimetype": "text/x-python",
   "name": "python",
   "nbconvert_exporter": "python",
   "pygments_lexer": "ipython3",
   "version": "3.7.6"
  }
 },
 "nbformat": 4,
 "nbformat_minor": 4
}
