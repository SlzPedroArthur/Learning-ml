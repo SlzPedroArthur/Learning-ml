{
 "cells": [
  {
   "cell_type": "code",
   "execution_count": 1,
   "metadata": {},
   "outputs": [],
   "source": [
    "import tensorflow as tf\n",
    "import numpy as np\n",
    "from tensorflow import keras\n",
    "import matplotlib.pyplot as plt"
   ]
  },
  {
   "cell_type": "code",
   "execution_count": 2,
   "metadata": {},
   "outputs": [],
   "source": [
    "mnist = tf.keras.datasets.fashion_mnist\n",
    "(training_images, training_labels), (test_images, test_labels) = mnist.load_data()"
   ]
  },
  {
   "cell_type": "code",
   "execution_count": 3,
   "metadata": {},
   "outputs": [
    {
     "name": "stdout",
     "output_type": "stream",
     "text": [
      "1\n",
      "[[  0   0   0   0   0   0   0   0   0   0  81 151 138 112  72 126 154 120 131 135   0   0   0   0   0   0   0   0]\n",
      " [  0   0   0   0   0   0   0   0   0   0 154 177 240 204 212 249 241 154 115 176  69   0   0   0   0   0   0   0]\n",
      " [  0   0   0   0   0   0   0   0   0   3 207 207 223 221 204 211 217 199 176 138  50   0   0   0   0   0   0   0]\n",
      " [  0   0   0   0   0   0   0   0   0  54 225 162 173 197 151 178 188 176 203 219  64   0   0   0   0   0   0   0]\n",
      " [  0   0   0   0   0   0   0   0   0 157 213 151 177 197 195 218 207 159 138 209 108   0   0   0   0   0   0   0]\n",
      " [  0   0   0   0   0   0   0   0   0 178 176 186 197 191 214 230 205 182 158 202 149   0   0   0   0   0   0   0]\n",
      " [  0   0   0   0   0   0   0   0   2 142 140 195 213 211 197 220 206 188 171 162 143   0   0   0   0   0   0   0]\n",
      " [  0   0   0   0   0   0   0   0  43 154 151 179 217 239 251 233 208 188 145 132 116   0   0   0   0   0   0   0]\n",
      " [  0   0   0   0   0   0   0   0  92 170 160 191 206 245 173 235 229 201 153 160  88   0   0   0   0   0   0   0]\n",
      " [  0   0   0   0   0   0   0   0 114 143 122 182 220 243   0 217 240 186 150 177  64   0   0   0   0   0   0   0]\n",
      " [  0   0   0   0   0   0   0   0 107 114 124 170 251 142   0 170 228 165 145 180  24   0   0   0   0   0   0   0]\n",
      " [  0   0   0   0   0   0   0   0 121 112 142 180 249   0   0  96 227 163 116 158   0   0   0   0   0   0   0   0]\n",
      " [  0   0   0   0   0   0   0   0 120  95 131 193 171   0   0  55 224 172 109 137   0   0   0   0   0   0   0   0]\n",
      " [  0   0   0   0   0   0   0   0  98 100 137 203  91   0   0  39 225 168 103 138   0   0   0   0   0   0   0   0]\n",
      " [  0   0   0   0   0   0   0   0 105 134 172 199  41   0   0  21 222 166 119  96   0   0   0   0   0   0   0   0]\n",
      " [  0   0   0   0   0   0   0   0 143 154 178 219   0   0   0   2 214 173 125  73   0   0   0   0   0   0   0   0]\n",
      " [  0   0   0   0   0   0   0   0 132 166 193 199   0   0   0   0 192 175 146  92   0   0   0   0   0   0   0   0]\n",
      " [  0   0   0   0   0   0   0   0 103 168 188 232   0   0   0   0 180 196 154  64   0   0   0   0   0   0   0   0]\n",
      " [  0   0   0   0   0   0   0   0  96 186 182 209  35   0   0   0 199 210 166  79   0   0   0   0   0   0   0   0]\n",
      " [  0   0   0   0   0   0   0   0  69 233 187 216  72   0   1   0 179 214 189  85   0   0   0   0   0   0   0   0]\n",
      " [  0   0   0   0   0   0   0   0  10 255 203 219 105   0   1   0 163 222 211  81   0   0   0   0   0   0   0   0]\n",
      " [  0   0   0   0   0   0   0   0   0 244 215 222 144   0   0   0 166 222 215  67   0   0   0   0   0   0   0   0]\n",
      " [  0   0   0   0   0   0   0   0   0 203 225 219 195   0   0   0 189 221 222  69   0   0   0   0   0   0   0   0]\n",
      " [  0   0   0   0   0   0   0   0   0 140 232 211 231   0   0   0 188 221 218  45   0   0   0   0   0   0   0   0]\n",
      " [  0   0   0   0   0   0   0   0   0  68 232 210 210  26   0   0 193 221 213  33   0   0   0   0   0   0   0   0]\n",
      " [  0   0   0   0   0   0   0   0   0   3 210 211 215  64   0   0 191 217 209  17   0   0   0   0   0   0   0   0]\n",
      " [  0   0   0   0   0   0   0   0   0   0 193 221 227 127   0   0 223 231 202   0   0   0   0   0   0   0   0   0]\n",
      " [  0   0   0   0   0   0   0   0   0   0 144 204 165  40   0   0 157 196 178   0   0   0   0   0   0   0   0   0]]\n"
     ]
    },
    {
     "data": {
      "image/png": "[encoded data removed]",
      "text/plain": [
       "<Figure size 432x288 with 1 Axes>"
      ]
     },
     "metadata": {
      "needs_background": "light"
     },
     "output_type": "display_data"
    }
   ],
   "source": [
    "np.set_printoptions(linewidth = 200)\n",
    "plt.imshow(training_images[419])\n",
    "print(training_labels[419])\n",
    "print(training_images[419])"
   ]
  },
  {
   "cell_type": "code",
   "execution_count": 4,
   "metadata": {},
   "outputs": [],
   "source": [
    "training_images = training_images / 255.0\n",
    "test_images = test_images / 255.0\n",
    "\n",
    "model = tf.keras.models.Sequential([\n",
    "    tf.keras.layers.Flatten(),\n",
    "    tf.keras.layers.Dense(128, activation = tf.nn.relu),\n",
    "    tf.keras.layers.Dense(10, activation = tf.nn.softmax)\n",
    "])\n",
    "\n",
    "model.compile(optimizer = tf.optimizers.Adam(),\n",
    "              loss = 'sparse_categorical_crossentropy',\n",
    "              metrics = ['accuracy'])\n",
    "model.fit(training_images, training_labels, epochs = 5)"
   ]
  },
  {
   "cell_type": "code",
   "execution_count": null,
   "metadata": {},
   "outputs": [
    {
     "name": "stdout",
     "output_type": "stream",
     "text": [
      "Train on 60000 samples\n",
      "Epoch 1/5\n"
     ]
    }
   ],
   "source": []
  },
  {
   "cell_type": "code",
   "execution_count": null,
   "metadata": {},
   "outputs": [],
   "source": []
  }
 ],
 "metadata": {
  "kernelspec": {
   "display_name": "Python 3",
   "language": "python",
   "name": "python3"
  },
  "language_info": {
   "codemirror_mode": {
    "name": "ipython",
    "version": 3
   },
   "file_extension": ".py",
   "mimetype": "text/x-python",
   "name": "python",
   "nbconvert_exporter": "python",
   "pygments_lexer": "ipython3",
   "version": "3.7.6"
  }
 },
 "nbformat": 4,
 "nbformat_minor": 4
}
